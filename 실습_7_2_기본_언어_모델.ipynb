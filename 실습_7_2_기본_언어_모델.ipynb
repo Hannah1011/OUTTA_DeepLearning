{
  "cells": [
    {
      "cell_type": "markdown",
      "source": [
        "> # 실습을 시작하기에 앞서, 항상 말했던대로 ***내 드라이브*** 위치에 실습을 위한 데이터 파일들이 위치되어 있는지 확인하자."
      ],
      "metadata": {
        "id": "17shNMpV3Xlj"
      }
    },
    {
      "cell_type": "markdown",
      "source": [
        "구글 드라이브에 연결한 후 실습에 필요한 데이터를 가져오도록 하자."
      ],
      "metadata": {
        "id": "AKyBlKw4__ZR"
      }
    },
    {
      "cell_type": "code",
      "source": [
        "from google.colab import drive\n",
        "drive.mount('/content/gdrive')"
      ],
      "metadata": {
        "colab": {
          "base_uri": "https://localhost:8080/"
        },
        "id": "EdtplGoCADn6",
        "outputId": "9b870c4d-dd56-4733-8ddb-f6f234d5d175"
      },
      "execution_count": null,
      "outputs": [
        {
          "output_type": "stream",
          "name": "stdout",
          "text": [
            "Mounted at /content/gdrive\n"
          ]
        }
      ]
    },
    {
      "cell_type": "markdown",
      "source": [
        "구글 드라이브 연결이 완료되었으면 이 셀을 실행하여 실습을 위한 셋팅을 완료한다."
      ],
      "metadata": {
        "id": "-ODpTz2p8tPW"
      }
    },
    {
      "cell_type": "code",
      "source": [
        "!cp /content/gdrive/MyDrive/shakespeare_input.txt /content/"
      ],
      "metadata": {
        "id": "NBpG7X_PAFi3"
      },
      "execution_count": null,
      "outputs": []
    },
    {
      "cell_type": "markdown",
      "source": [
        "> # 실습 강의 영상의 내용은 이 아래 부분부터 시작한다."
      ],
      "metadata": {
        "id": "4jMnlpKt3XeT"
      }
    },
    {
      "cell_type": "markdown",
      "metadata": {
        "id": "SUPBqU6yX5ER"
      },
      "source": [
        "# **실습 3. n-gram 모델을 바탕으로 새로운 텍스트 생성해보기**\n",
        "본 실습에서 사용하는 데이터셋(shakespeare_input.txt)의 출처는 다음과 같음을 밝힌다.\n",
        "\n",
        "https://github.com/karpathy/char-rnn/blob/master/data/tinyshakespeare/input.txt"
      ]
    },
    {
      "cell_type": "markdown",
      "metadata": {
        "id": "rJCutHRcV39w"
      },
      "source": [
        "## **0. 과제 이해하기**\n",
        "\n",
        "실습 2에서는 파이썬을 활용하여 영어 텍스트를 글자와 단어 단위에서 분석하는 방법 및 토큰화의 방법을 배웠다. 이번 실습에서는 기본 언어 모델 중 하나인 n-gram 모델을 사용하여 주어진 본문을 분석하는 작업으로 확장해볼 것이다. 나아가, 본문을 분석함으로써 특정 텍스트 스타일을 파악해내고 모델을 훈련하는 실습을 진행하고자 한다. 우리의 최종 과제는 셰익스피어 스타일을 분석하고 이를 모델에 훈련시켜, 셰익스피어 스타일의 텍스트를 새롭게 창작해보는 활동으로, 꽤나 흥미로울 것이니 즐겁게 따라올 수 있기를 기대한다.\n",
        "\n"
      ]
    },
    {
      "cell_type": "markdown",
      "metadata": {
        "id": "w5aRoi0sX2VI"
      },
      "source": [
        "## **1. n-gram 언어 모델 만들기**\n",
        "\n",
        "### **1.1 [글자-빈도] 형태로 변환하는 함수 만들기**\n",
        "\n",
        "본격적으로 n-gram 언어 모델을 생성하기에 앞서, [letter -> count 쌍]에 대한 counter를 [letter -> frequency 쌍]으로 변환해주는 함수를 작성하고자 한다. 실습 2에서 작성했던 코드를 참조하여 <normalize> 함수를 만들되, 이번에는 character 내의 특수 문자를 제거하지 않도록 하라. 이번 실습 역시 collections 모듈의 Counter 클래스를 활용할 것이다."
      ]
    },
    {
      "cell_type": "code",
      "execution_count": null,
      "metadata": {
        "id": "pk9HnGjAWA8J"
      },
      "outputs": [],
      "source": [
        "def normalize(counter):\n",
        "    \"\"\" `letter -> count` counter를 (letter, frequency) 쌍의 list로 변환하라.\n",
        "       이때 frequency의 내림차순 기준으로 정렬해야 한다.\n",
        "\n",
        "    매개변수\n",
        "    -----------\n",
        "    counter : collections.Counter\n",
        "        letter -> count\n",
        "\n",
        "    반환 값\n",
        "    -------\n",
        "    List[Tuple[str, float]]\n",
        "       A list of tuples - (letter, frequency) pairs in order\n",
        "       of descending-frequency\n",
        "\n",
        "    예시\n",
        "    --------\n",
        "    >>> from collections import Counter\n",
        "    >>> letter_count = Counter({\"a\": 1, \"b\": 3})\n",
        "    >>> letter_count\n",
        "    Counter({'a': 1, 'b': 3})\n",
        "\n",
        "    >>> normalize(letter_count)\n",
        "    [('b', 0.75), ('a', 0.25)]\n",
        "    \"\"\"\n",
        "    # 여기에 코드 작성\n",
        "    total = 0\n",
        "    for _, cnt in counter.items():\n",
        "        total += cnt\n",
        "    # return [(char, cnt/total) for char, cnt in ________]\n",
        "\n",
        "    freq = []\n",
        "\n",
        "    for char, cnt in counter.items():# counter.most_common() -> counter 딕셔너리를 내림차순으로 정렬해준 딕셔너리\n",
        "         freq.append((char, cnt/total))\n",
        "\n",
        "    return freq"
      ]
    },
    {
      "cell_type": "markdown",
      "metadata": {
        "id": "h5RURIKmWEhC"
      },
      "source": [
        "### **1.2 n-gram 분석 모델 생성하기**\n",
        "\n",
        "이제부터는 파이썬의 collections 모듈을 본격적으로 사용할 것인데, 이때 Counter 클래스뿐 아니라 defaultdict 클래스도 사용할 것이다. 이를 기반으로 직접 함수를 만들어서, 텍스트에서 발생하는 n-그램을 실제로 분석해보도록 하자. 이때 토큰의 단위를 ‘n개 글자로 구성된 글자 시퀀스’로 설정하여 분석을 진행하면 된다. 위에서 언급했듯, 우리의 실습에서는 n개의 단어가 아닌 n개의 글자를 기준으로 토큰화할 것이다.\n",
        "\n",
        "`model: {(n-1) character history -> {nth-letter -> count}}`\n",
        "\n",
        "\n",
        "\n",
        "```\n",
        "예시1: 텍스트 \"cacao\"를 3그램 단위로 분석하는 과정\n",
        "history is \"~~\", next char is \"c\", increment model[\"~~\"][\"c\"]\n",
        "history is \"~c\", next char is \"a\", increment model[\"~c\"][\"a\"]\n",
        "history is \"ca\", next char is \"c\", increment model[\"ca\"][\"c\"]\n",
        "history is \"ac\", next char is \"a\", increment model[\"ac\"][\"a\"]\n",
        "history is \"ca\", next char is \"o\", increment model[\"ca\"][\"o\"]\n",
        "history is \"ao\", next char does not exists. End process\n",
        "\n",
        "예시2: 텍스트 \"cacao\"를 4그램 단위로 분석하는 과정\n",
        "history is \"~~~\", next char is \"c\", increment model[\"~~~\"][\"c\"]\n",
        "history is \"~~c\", next char is \"a\", increment model[\"~~c\"][\"a\"]\n",
        "history is \"~ca\", next char is \"c\", increment model[\"~ca\"][\"c\"]\n",
        "history is \"cac\", next char is \"a\", increment model[\"cac\"][\"a\"]\n",
        "history is \"aca\", next char is \"o\", increment model[\"aca\"][\"o\"]\n",
        "history is \"cao\", next char does not exists. End process\n",
        "```\n",
        "\n"
      ]
    },
    {
      "cell_type": "markdown",
      "metadata": {
        "id": "qJP_WIPOWK7a"
      },
      "source": [
        "우리가 학습시킬 ‘n-gram 분석 모델’의 작동 원리를 살펴보자면,\n",
        "\n",
        ">① n-1개의 characters로 이루어진 시퀀스가 주어지고, 해당 시퀀스 뒤에 따라오는 character 히스토리에 대한 기록을 가지고 있다. (ex. \"ca\" 시퀀스 뒤에 \"c\"가 오더라)  \n",
        "② ①의 [시퀀스-character] 히스토리가 몇 번씩 발생했는지 count하고, <normalize> 함수를 통해 각 히스토리 count값을 ‘빈도 값’으로 변환하여 확률 형태로 표현한다.  \n",
        "③ 문서의 시작 부분에 더미 글자(dummy character) \" ~ \"를 활용하여 여백(padding)을 줄 것인데, 텍스트 도입 부분에 개의 “~”를 미리 채워두도록 한다.  \n",
        "\n",
        "요약하자면, 우리가 학습시킬 모델은\n",
        "- 주어진 텍스트에서 (n-1) 길이의 모든 히스토리와\n",
        "- 각 히스토리를 따르는 여러 character에 대한 기록들 모두 다룬다고 정리할 수 있으며,\n",
        " 이에 따라 우리 모델을 일종의 ‘두 개의 중첩된 딕셔너리’로 생각해볼 수 있다.\n",
        "\n",
        "위의 조건을 충족시키기 위해, 우리의 모델은 defaultdict 클래스를 활용하여 default 딕셔너리(=기본 값으로서 ‘비어있는 Counter 인스턴스’를 취하는 딕셔너리) 형태로 만들어야 한다. 이를 통해 모델이 새로운 히스토리를 만날 때마다 그 히스토리에 대한 비어있는 counter 인스턴스를 생성하게 될 것이다. 이후 모델은 학습을 거치면서 비어있던 counter들을 ‘주어진 텍스트의 모든 히스토리’로 채워넣게 될 것이다.\n",
        "```\n",
        "model = defaultdict(Counter)\n",
        "model[history] # 해당 히스토리에 대한 counter를 반환\n",
        "model[history][char] += 1 # 히스토리 뒤에 오는 글자를 바탕으로 counter를 업데이트\n",
        "```\n",
        "위 사항들을 모두 고려하여 <train_lm> 함수를 완성시켜 보아라."
      ]
    },
    {
      "cell_type": "code",
      "execution_count": null,
      "metadata": {
        "id": "O_pvEM1oWqLK"
      },
      "outputs": [],
      "source": [
        "from collections import defaultdict, Counter\n",
        "\n",
        "def train_lm(text, n):\n",
        "    \"\"\" 글자 기반의 n-gram 언어 모델 훈련시키기.\n",
        "\n",
        "    이것은 n-1개의 글자 시퀀스가 주어졌을 때, 시퀀스 내 n번째 글자에 대한 확률분포가 무엇인지 학습하게 될 것이다\n",
        "    예를 들어, text = \"cacao\" 라는 텍스트를 훈련한다면,\n",
        "    n 크기가 3이라고 할 때 그에 대한 딕셔너리가 반환될 것이다.\n",
        "    우리가 주어진 히스토리에 대한 각 카운트를 정규화하는지 확인하라.\n",
        "\n",
        "        {'ac': [('a', 1.0)],\n",
        "         'ca': [('c', 0.5), ('o', 0.5)],\n",
        "         '~c': [('a', 1.0)],\n",
        "         '~~': [('c', 1.0)]}\n",
        "여기서 \"~\"는, 어떠한 히스토리에 대해 (n-1)개의 글자가 앞에 존재하지 않더라도, 특정 글자가 나타날 확률값을 측정하기 위하여 히스토리를 임의로 채워넣기(패딩) 위해 사용된다.\n",
        "   우리가 훈련한 이 텍스트에 따르면 'ac'라는 수열을 볼 때\n",
        "이 모델은 다음 글자가 100% 경우에 'a'여야 한다고 예측한다.\n",
        "\n",
        "패딩을 만들기 위해서, 파이썬을 호출하여 반복된 시퀀스를 쉽게 만들어내도록 하자:\n",
        "          `\"p\" * 4` returns `\"pppp\"`\n",
        "\n",
        "    매개변수\n",
        "    -----------\n",
        "    text: str\n",
        "        하나의 문자열 (이 문자열은 소문자화하지 않아도 된다).\n",
        "\n",
        "    n: int\n",
        "        분석할 n-gram의 길이\n",
        "\n",
        "    반환 값\n",
        "    -------\n",
        "    Dict[str, List[Tuple[str, float]]]\n",
        "      {n-1 history -> [(letter, normalized count), ...]}\n",
        "\n",
        "히스토리(n-1 길이의 문자열 형태)를 (char, prob) 쌍의 list에 매핑하는 딕셔너리.\n",
        "여기서 prob은 글자(char)가 특정 히스토리 뒤에 나타날 의 확률, 즉 빈도를 가리킨다\n",
        "\n",
        "    예시\n",
        "    --------\n",
        "    >>> train_lm(\"cacao\", 3)\n",
        "    {'ac': [('a', 1.0)],\n",
        "     'ca': [('c', 0.5), ('o', 0.5)],\n",
        "     '~c': [('a', 1.0)],\n",
        "     '~~': [('c', 1.0)]}\n",
        "    \"\"\"\n",
        "    # 여기에 코드 작성\n",
        "    # 여기에 코드 작성\n",
        "\n",
        "    raw_lm = defaultdict(Counter) # defaultdict -> key에 해당하는 value 값을 주지 않으면 default value로 Counter()을 준다.\n",
        "    # raw_lm -> key: 문자열, value: Counter (딕셔너리) 인 default 딕셔너리\n",
        "\n",
        "    history = \"~\" * (n - 1) # history : 특정 단어를 예측하는데 살펴볼 n-1개의 앞 단어\n",
        "\n",
        "    for char in text:\n",
        "        raw_lm[history][char] += 1\n",
        "        # slide history window to the right by one character\n",
        "        history = history[1:] + char\n",
        "\n",
        "    # create final dictionary, normalizing the counts for each history\n",
        "    lm = {}\n",
        "    for history, counter in raw_lm.items():\n",
        "        lm[history] = normalize(counter)\n",
        "\n",
        "    return lm"
      ]
    },
    {
      "cell_type": "markdown",
      "metadata": {
        "id": "zbVSXLAgWreb"
      },
      "source": [
        "- “cacao\"에 대하여 train_lm()을 테스트해보아라. (이때 n은 3으로 지정한다.)"
      ]
    },
    {
      "cell_type": "code",
      "execution_count": null,
      "metadata": {
        "id": "tPkoGmfDWsDs",
        "colab": {
          "base_uri": "https://localhost:8080/"
        },
        "outputId": "26e11e17-b004-4cfc-ae44-c2a12da50090"
      },
      "outputs": [
        {
          "output_type": "execute_result",
          "data": {
            "text/plain": [
              "{'~~': [('c', 1.0)],\n",
              " '~c': [('a', 1.0)],\n",
              " 'ca': [('c', 0.5), ('o', 0.5)],\n",
              " 'ac': [('a', 1.0)]}"
            ]
          },
          "metadata": {},
          "execution_count": 19
        }
      ],
      "source": [
        "# 여기에 코드 작성'\n",
        "lm = train_lm('cacao', 3)\n",
        "lm"
      ]
    },
    {
      "cell_type": "markdown",
      "metadata": {
        "id": "CGge9yo3Ws3h"
      },
      "source": [
        "- 이번에는 다른 예시를 가지고 테스트해보자.\n",
        "이하 텍스트는 Dr.Seuss의 \"The Cat in the Hat\"로부터 발췌한 것이다."
      ]
    },
    {
      "cell_type": "code",
      "execution_count": null,
      "metadata": {
        "id": "EsHsu19QWt9t"
      },
      "outputs": [],
      "source": [
        "text = \"\"\"The sun did not shine, it was too wet to play,\n",
        "so we sat in the house all that cold, cold wet day.\n",
        "I sat there with Sally. We sat here we two\n",
        "and we said 'How we wish we had something to do.'\"\"\"\n",
        "\n",
        "# 여기에 코드 작성\n",
        "lm3 = train_lm(text, 3)"
      ]
    },
    {
      "cell_type": "markdown",
      "metadata": {
        "id": "ve5vudwzWya5"
      },
      "source": [
        "- 다음은 글자 \"T\"에 대해 1.0의 확률을 나타내야 하는데, 이는 ‘T'가 이 모델이 접한 유일한 시작 글자이기 때문이다.  (i.e., with no history, indicated by \"~~\")"
      ]
    },
    {
      "cell_type": "code",
      "execution_count": null,
      "metadata": {
        "id": "xTh7SwqtWyCQ",
        "colab": {
          "base_uri": "https://localhost:8080/"
        },
        "outputId": "90d568a9-1bc4-430f-c725-1094ed78d60d"
      },
      "outputs": [
        {
          "output_type": "execute_result",
          "data": {
            "text/plain": [
              "[('T', 1.0)]"
            ]
          },
          "metadata": {},
          "execution_count": 21
        }
      ],
      "source": [
        "lm3[\"~~\"]"
      ]
    },
    {
      "cell_type": "markdown",
      "metadata": {
        "id": "WY_i8SJVW5-f"
      },
      "source": [
        "- 마찬가지로, 다음은 \"h\"에 대해 1.0의 확률을 보여야 하는데, 'h'가 이 모델이 \"~T\"의 히스토리 이후에 본 유일한 글자이기 때문이다."
      ]
    },
    {
      "cell_type": "code",
      "execution_count": null,
      "metadata": {
        "id": "I3Pg7cTQW7ff",
        "colab": {
          "base_uri": "https://localhost:8080/"
        },
        "outputId": "b3d6ccb8-b244-495f-83bd-6fc6e3a32e95"
      },
      "outputs": [
        {
          "output_type": "execute_result",
          "data": {
            "text/plain": [
              "[('h', 1.0)]"
            ]
          },
          "metadata": {},
          "execution_count": 22
        }
      ],
      "source": [
        "lm3[\"~T\"]"
      ]
    },
    {
      "cell_type": "markdown",
      "metadata": {
        "id": "gVscEae-W8NC"
      },
      "source": [
        "- 마지막 예시는 글자 \"e\", \"a\", \"\", \"i\"의 확률 분포를 나타내야 하는데, 텍스트에서 이 네 개의 글자 모두 \"th\" 뒤에 따라오는 것으로 관찰되었기 때문이다."
      ]
    },
    {
      "cell_type": "code",
      "execution_count": null,
      "metadata": {
        "id": "n5psbiuXW9GS",
        "colab": {
          "base_uri": "https://localhost:8080/"
        },
        "outputId": "56e506b7-5a90-4a7b-9434-c088f41000a3"
      },
      "outputs": [
        {
          "output_type": "execute_result",
          "data": {
            "text/plain": [
              "[('e', 0.4), ('a', 0.2), (' ', 0.2), ('i', 0.2)]"
            ]
          },
          "metadata": {},
          "execution_count": 23
        }
      ],
      "source": [
        "lm3[\"th\"]"
      ]
    },
    {
      "cell_type": "markdown",
      "metadata": {
        "id": "L-Di62msW_Te"
      },
      "source": [
        "## **2. 텍스트 생성하기**\n",
        "언어 모델에서 재미있는 것은, 학습된 확률 분포를 사용하여 글자를 새롭게 생성할 수 있다는 것이다. 다시 말해, 학습시킨 모델의 스타일대로 랜덤 텍스트를 만들어낼 수 있다.\n",
        "\n",
        "먼저, <generate_letter> 함수를 만들어보자. 이 함수는 ① 특정 히스토리가 주어졌을 때 ② 언어 모델에 저장된 확률을 바탕으로 ③ 하나의 랜덤 글자를 가져오는 함수이다. 아래 두 개의 힌트 두 개를 활용하여 직접 함수의 코드를 완성해보자.\n",
        "\n",
        ">힌트1: unzip 함수를 사용하라.\n",
        "예: [(char0, prob0), (char1, prob1), ...]\n",
        "    -> ((char0, char1, ...), (prob0, prob1, ...))  \n",
        "\n",
        ">힌트2: 여러 원소로 구성된 choices가 있다고 할 때, 우리는  <np.random.choice(choices, p=probabilities)>를 통해 각 원소의 발생 확률을 probabilities로 지정시킬 수 있다. 이후, 해당 확률에 따라 choices로부터 하나의 원소를 반환할 수 있다.   \n",
        "예: <np.random.choice([\"a\", \"b\"], [0.25, 0.75])>는 25%의 확률로 \"a\"를. 75%의 확률로 \"b\"를 반환해줄 것이다.  "
      ]
    },
    {
      "cell_type": "code",
      "execution_count": null,
      "metadata": {
        "id": "g_K5_MKl_oxF"
      },
      "outputs": [],
      "source": [
        "def unzip(pairs):\n",
        "    \"\"\"\n",
        "    매개변수\n",
        "    ----------\n",
        "    pairs : Iterable[Tuple[Any, ...]]\n",
        "        (a0, b0, c0, ...), (a1, b1, c1, ...)) 형태의 이터러블\n",
        "\n",
        "    반환 값\n",
        "    -------\n",
        "    Tuple[Tuples[Any, ...], ...]\n",
        "       ‘여러 쌍들(pairs)’이 ‘풀어진(unzipped)’ 내용물로 구성된 하나의 튜플; i.e.\n",
        "       ((a0, a1, ...), (b0, b1, ...), (c0, c1), ...)\n",
        "    \"\"\"\n",
        "    return tuple(zip(*pairs))"
      ]
    },
    {
      "cell_type": "code",
      "execution_count": null,
      "metadata": {
        "id": "aIDasCIKW-vm"
      },
      "outputs": [],
      "source": [
        "import numpy as np\n",
        "\n",
        "def generate_letter(lm, history):\n",
        "    \"\"\" 언어 모델에 저장된 지정된 히스토리와 관련된 확률 분포에 따라, 글자를 랜덤하게 선택합니다.\n",
        "    주의: 모델 내에서 히스토리가 존재하지 않으면 더미 글자 \"~\"를 반환\n",
        "\n",
        "    매개변수\n",
        "    ----------\n",
        "    lm: Dict[str, List[Tuple[str, float]]]\n",
        "        n-gram 언어모델\n",
        "        (= 딕셔너리: history -> [(char, freq), ...])\n",
        "\n",
        "    history: str\n",
        "       다음 글자를 생성하기 위한 문맥/히스토리로 사용할 길이(n-1) 문자열\n",
        "\n",
        "    반환 값\n",
        "    -------\n",
        "    str\n",
        "        예측된 글자.\n",
        "        '~': 언어 모델에 히스토리가 없는 경우\n",
        "    \"\"\"\n",
        "    # 여기에 코드 작성\n",
        "    if not history in lm:\n",
        "        return \"~\"\n",
        "    letters, probs = unzip(lm[history]) # letters : (\"e\", \"a\", \" \", \"i\"), probs : (0.4, 0.2, 0.2, 0.2)\n",
        "    return np.random.choice(letters, p=probs) # 확률에 따라서 history 뒤에 나올 글자 선택 # e -> 0.4확률로 나옴, a, \" \", i -> 0.2의 확률로 나옵니다."
      ]
    },
    {
      "cell_type": "markdown",
      "metadata": {
        "id": "E3r4ns9UXKdp"
      },
      "source": [
        "- 다음은 \"e\", \"a\", \" ” 또는 \"i\"를 생성해야 하는데, 이들 글자는 \"th\" 뒤에 오는 유일한 네 글자이기 때문이다."
      ]
    },
    {
      "cell_type": "code",
      "execution_count": null,
      "metadata": {
        "id": "weLC2lH0XLjY",
        "colab": {
          "base_uri": "https://localhost:8080/"
        },
        "outputId": "bdeb1fc1-87ab-4996-e931-5dcf690cd6bb"
      },
      "outputs": [
        {
          "output_type": "execute_result",
          "data": {
            "text/plain": [
              "{' ', 'a', 'e', 'i'}"
            ]
          },
          "metadata": {},
          "execution_count": 26
        }
      ],
      "source": [
        "# `generate_letter`를 100번 실행한 후 반환된 결과를 중복 없이 저장해두어라\n",
        "set(generate_letter(lm3, \"th\") for i in range(100))"
      ]
    },
    {
      "cell_type": "markdown",
      "metadata": {
        "id": "XW2MKojXXMYo"
      },
      "source": [
        "- 다음 코드는 예측되는 여러 개의 다음 글자를 생성해주는데, 이는 분포에 대한 감각을 얻기 위한 것이다. \"e\"는 \"th\"를 따를 확률이 높기 때문에, 평균적으로 다른 글자보다 더 자주 나타나야 한다."
      ]
    },
    {
      "cell_type": "code",
      "execution_count": null,
      "metadata": {
        "id": "iRb5Kvm1XNX6",
        "colab": {
          "base_uri": "https://localhost:8080/"
        },
        "outputId": "ddc4bb66-3dd0-4f19-c42a-06baea157639"
      },
      "outputs": [
        {
          "output_type": "execute_result",
          "data": {
            "text/plain": [
              "['e', 'e', 'e', 'e', ' ', 'i', ' ', 'i', ' ', 'i']"
            ]
          },
          "metadata": {},
          "execution_count": 27
        }
      ],
      "source": [
        "[generate_letter(lm3, \"th\") for i in range(10)]"
      ]
    },
    {
      "cell_type": "markdown",
      "metadata": {
        "id": "bzvyWvTdXOtg"
      },
      "source": [
        "- 마지막으로, 언어 모델에 따라 전체 텍스트 시퀀스를 생성한다. 시작 부분은 히스토리가 없는 상태, 즉 n-1 개의 '~'로 시작할 것이며, 랜덤 글자를 생성하고, 히스토리를 업데이트하고, 반복할 것이다. 이때 'nletters' 변수를 새로 만들어 랜덤 글자의 생성 개수를 입력해보자.\n",
        "\n",
        "우리의 예시는,\n",
        "\n",
        "```\n",
        "history \"~~\" will generate 'T' (since only one possibility)  \n",
        "history \"~T\" will generate 'h' (since only one possibility)  \n",
        "history \"Th\" will generate 'e' (since only one possibility)  \n",
        "history \"he\" could generate 'r' (out of multiple possibilities)  \n",
        "history \"er\" will generate 'e' (since only one possibility)  \n",
        "```\n",
        "\n",
        "\n",
        "\n",
        "등이 있다. 지금까지 생성된 텍스트는 ”There\"이 될 것이다."
      ]
    },
    {
      "cell_type": "code",
      "execution_count": null,
      "metadata": {
        "id": "mhlij6F3XT2U"
      },
      "outputs": [],
      "source": [
        "def generate_text(lm, n, nletters=100):\n",
        "    \"\"\" n-gram 언어 모델 `lm`에 저장된 확률 분포로부터 추출하여, 텍스트의 'nletters'를 무작위로 생성한다.\n",
        "\n",
        "    매개변수\n",
        "    ----------\n",
        "    lm: Dict[str, List[Tuple[str, float]]]\n",
        "         n-gram 언어모델\n",
        "        (= 딕셔너리: history -> [(char, freq), ...])\n",
        "\n",
        "    n: int\n",
        "        n-gram 모델을 구성하는 토큰 한 개의 길이(글자 n개)\n",
        "\n",
        "    nletters: int\n",
        "        무작위로 생성할 글자의 개수\n",
        "\n",
        "    반환 값\n",
        "    -------\n",
        "    str\n",
        "        모델 생성 텍스트.\n",
        "       생성된 글자 수 'nletters'를 포함해야 하며, 미리 표시한 ‘~’들은 포함하지 않음.\n",
        "    \"\"\"\n",
        "    # 여기에 코드 작성\n",
        "    history = \"~\" * (n - 1)\n",
        "    text = []\n",
        "    for i in range(nletters):\n",
        "        c = generate_letter(lm, history) # history 뒤에 나올 글자를 c에 저장\n",
        "        text.append(c) # 글자를 결과에 추가\n",
        "        history = history[1:] + c # history 업데이트\n",
        "    return \"\".join(text) # 결과 리스트를 문자열로 변환"
      ]
    },
    {
      "cell_type": "markdown",
      "metadata": {
        "id": "Lr_cAsnNXUsu"
      },
      "source": [
        "- 다음 코드를 통해 \"The Cat in the Hat\"의 시작 부분에서 훈련한 3-gram 언어 모델에 따라, 40개의 글자를 생성할 수 있다. 물론, 히스토리 길이도 짧고 훈련 데이터의 양도 적기 때문에, 생성한 결과가 깔끔하지는 않을 것이다."
      ]
    },
    {
      "cell_type": "code",
      "execution_count": null,
      "metadata": {
        "id": "eVn5kFtoXV1q",
        "colab": {
          "base_uri": "https://localhost:8080/"
        },
        "outputId": "13029096-5fad-460f-b828-cf88cf3a60cb"
      },
      "outputs": [
        {
          "output_type": "stream",
          "name": "stdout",
          "text": [
            "There sat cold, in day, cold 'How wet co\n"
          ]
        }
      ],
      "source": [
        "print(generate_text(lm3, 3, 40))"
      ]
    },
    {
      "cell_type": "markdown",
      "metadata": {
        "id": "oY07I1ooXXBY"
      },
      "source": [
        "## **3. 셰익스피어 스타일의 텍스트 생성해보기**\n",
        "\n",
        "지금까지, 텍스트 분석을 통해 특정 텍스트 스타일을 학습하고 해당 스타일이 적용된 언어를 생성하는 방법을 배웠다. 여러분은 마지막으로 셰익스피어 스타일의 새로운 텍스트를 직접 만들어보는 활동을 할 것이다. 다음 셀을 통해 Andrej Karpathy의 shakespeare_input.txt 파일을 로드할 수 있다.\n"
      ]
    },
    {
      "cell_type": "code",
      "execution_count": null,
      "metadata": {
        "id": "Ojfpfp4hXZcW",
        "colab": {
          "base_uri": "https://localhost:8080/"
        },
        "outputId": "77d29ef3-31c3-4314-962d-9e9a711c068f"
      },
      "outputs": [
        {
          "output_type": "stream",
          "name": "stdout",
          "text": [
            "4573338 character(s)\n",
            "'~' is a good pad character: True\n"
          ]
        }
      ],
      "source": [
        "path_to_shakespeare = \"shakespeare_input.txt\"\n",
        "with open(path_to_shakespeare, \"r\") as f:\n",
        "    shakespeare = f.read()\n",
        "print(str(len(shakespeare)) + \" character(s)\")\n",
        "chars = set(shakespeare)\n",
        "print(f\"'~' is a good pad character: {'~' not in chars}\")"
      ]
    },
    {
      "cell_type": "markdown",
      "metadata": {
        "id": "vI8QdyrvXaME"
      },
      "source": [
        "이제 다양한 n값(ex. 3, 5, 11)에 대한 훈련 모델을 실험하고, 약 500자 정도의 텍스트를 생성해볼 것이다. 이때 사용하는 n-gram 모델은 11-gram이 적합할 것이다."
      ]
    },
    {
      "cell_type": "code",
      "execution_count": null,
      "metadata": {
        "id": "W5fUfkJK_oxG"
      },
      "outputs": [],
      "source": [
        "# 여기에 코드 작성\n",
        "lm3 = train_lm(shakespeare, 3)"
      ]
    },
    {
      "cell_type": "code",
      "execution_count": null,
      "metadata": {
        "id": "8aqEbNgHXb1E",
        "colab": {
          "base_uri": "https://localhost:8080/"
        },
        "outputId": "77f450b3-dd54-48d0-a558-fc044b55003c"
      },
      "outputs": [
        {
          "output_type": "stream",
          "name": "stdout",
          "text": [
            "Fivy loore Fly the now me pipt: sommay lithis but kin\n",
            "Ple hith, fessits, se ifulds th\n",
            "TAFF:\n",
            "OLSTARIUS:\n",
            "WAROSRINA:\n",
            "Why ebeete\n",
            "Leted, 't wast-sonother donce oat clot earfuld this mill decstualkind all safe.\n",
            "\n",
            "But, withievere thishat artune.\n",
            "Brum\n",
            "Harld rat to bea, fargen so, enatit, 's go reveness ing in tedcois ther! warevand the ber nothe loweresionick; with; you hitnew noblover of Good donst I these hance; wit dot ors,\n",
            "And by pereakeple--greaspoient is or theian you fecou wer\n",
            "My fore a him: And w\n"
          ]
        }
      ],
      "source": [
        "print(generate_text(lm3, 3, 500))"
      ]
    },
    {
      "cell_type": "code",
      "execution_count": null,
      "metadata": {
        "id": "PnxkndJP_oxG"
      },
      "outputs": [],
      "source": [
        "# 여기에 코드 작성\n",
        "lm5 = train_lm(shakespeare, 5)"
      ]
    },
    {
      "cell_type": "code",
      "execution_count": null,
      "metadata": {
        "id": "Gb7biASEXd4v",
        "colab": {
          "base_uri": "https://localhost:8080/"
        },
        "outputId": "d59d3eb0-6afc-48d8-c1e1-ba9261d1befd"
      },
      "outputs": [
        {
          "output_type": "stream",
          "name": "stdout",
          "text": [
            "First Senated my so. But\n",
            "the husband the processitied the green France;\n",
            "But eats ashame hearth,\n",
            "Sentine, partyr'd,\n",
            "Where come still my presentle a\n",
            "noble to her\n",
            "cried to be in't; then road;\n",
            "And would stillon,\n",
            "To see to know you over have not again,\n",
            "Who look your lord?\n",
            "\n",
            "Page,\n",
            "If the men?\n",
            "\n",
            "CAPULET:\n",
            "That,\n",
            "And 'tis grief hath, to as hear horseback, so look on't, as last and and cried I have of ill we are service,\n",
            "I were law was this I am a gout,--that said she? any\n",
            "Of my loves hour--as, friar, in gar\n"
          ]
        }
      ],
      "source": [
        "print(generate_text(lm5, 5, 500))"
      ]
    },
    {
      "cell_type": "code",
      "execution_count": null,
      "metadata": {
        "id": "DKAvTMRa_oxG"
      },
      "outputs": [],
      "source": [
        "# 여기에 코드 작성\n",
        "lm11 = train_lm(shakespeare, 11)"
      ]
    },
    {
      "cell_type": "code",
      "execution_count": null,
      "metadata": {
        "id": "pNmtbvSlXfpJ",
        "colab": {
          "base_uri": "https://localhost:8080/"
        },
        "outputId": "bcba3119-93ce-4a72-b71e-1afc9c03234b"
      },
      "outputs": [
        {
          "output_type": "stream",
          "name": "stdout",
          "text": [
            "First Citizen:\n",
            "One word, sir: if\n",
            "you will demand his child\n",
            "Like him you spake,\n",
            "Like him by chance\n",
            "Did grace our hollow parting with mighty kings.\n",
            "\n",
            "KING LEAR:\n",
            "No, I say.\n",
            "\n",
            "CASSANDRA:\n",
            "Farewell, proud Rome; till Lucius come again discarded men;\n",
            "very rogue\n",
            "Thy ear is liable; thy food is such\n",
            "As hath been,\n",
            "Wicked and disfigured;\n",
            "And, like a football player.\n",
            "\n",
            "KING LEWIS XI:\n",
            "But is he of his the hungry edge of appetite in change of words.\n",
            "\n",
            "VIOLA:\n",
            "I thank you.\n",
            "\n",
            "ISABELLA:\n",
            "O, let my sovereign creature!\n",
            "Tho\n"
          ]
        }
      ],
      "source": [
        "print(generate_text(lm11, 11, 500))"
      ]
    },
    {
      "cell_type": "markdown",
      "metadata": {
        "id": "nG41R3XxXgpL"
      },
      "source": [
        "보너스 아이디어: 인터넷에서 모델을 훈련시킬 다른 텍스트(ex. 노래 가사, 특정 작가의 책 등)도 함께 찾아보고 적용해보면, 색다른 경험이 될 것이다."
      ]
    }
  ],
  "metadata": {
    "colab": {
      "provenance": []
    },
    "jupytext": {
      "formats": "ipynb,md"
    },
    "kernelspec": {
      "display_name": "Python 3 (ipykernel)",
      "language": "python",
      "name": "python3"
    },
    "language_info": {
      "codemirror_mode": {
        "name": "ipython",
        "version": 3
      },
      "file_extension": ".py",
      "mimetype": "text/x-python",
      "name": "python",
      "nbconvert_exporter": "python",
      "pygments_lexer": "ipython3",
      "version": "3.8.16"
    }
  },
  "nbformat": 4,
  "nbformat_minor": 0
}