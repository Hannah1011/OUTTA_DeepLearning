{
  "cells": [
    {
      "cell_type": "code",
      "execution_count": null,
      "metadata": {
        "id": "KmT4jenPsuv_"
      },
      "outputs": [],
      "source": [
        "!pip install -q -U google-generativeai"
      ]
    },
    {
      "cell_type": "code",
      "execution_count": null,
      "metadata": {
        "id": "oDOtxrkLs80n"
      },
      "outputs": [],
      "source": [
        "import pathlib\n",
        "import textwrap\n",
        "\n",
        "import google.generativeai as genai\n",
        "\n",
        "GOOGLE_API_KEY= '<<ENTER YOUR APY KEY>>'\n",
        "\n",
        "genai.configure(api_key=GOOGLE_API_KEY)"
      ]
    },
    {
      "cell_type": "markdown",
      "metadata": {
        "id": "423xGcs-eSFM"
      },
      "source": [
        "# How to use"
      ]
    },
    {
      "cell_type": "code",
      "execution_count": null,
      "metadata": {
        "colab": {
          "base_uri": "https://localhost:8080/",
          "height": 571
        },
        "id": "nkbQEqKPeRp_",
        "outputId": "03c6d7ff-6d6a-4d4d-cd7e-ecc12775bfc8"
      },
      "outputs": [
        {
          "name": "stdout",
          "output_type": "stream",
          "text": [
            "**Newton's Second Law of Motion**\n",
            "\n",
            "Newton's second law of motion describes the relationship between an object's mass, acceleration, and the forces acting on it. It states that:\n",
            "\n",
            "**The acceleration of an object is directly proportional to the net force acting on it and inversely proportional to its mass.**\n",
            "\n",
            "Mathematically, it can be expressed as:\n",
            "\n",
            "```\n",
            "F = ma\n",
            "```\n",
            "\n",
            "Where:\n",
            "\n",
            "* **F** is the net force acting on the object in newtons (N)\n",
            "* **m** is the mass of the object in kilograms (kg)\n",
            "* **a** is the acceleration of the object in meters per second squared (m/s²)\n",
            "\n",
            "**Key Points:**\n",
            "\n",
            "* **Directly Proportional:** The acceleration of an object is proportional to the net force acting on it. In other words, as the force increases, so does the acceleration.\n",
            "* **Inversely Proportional:** The acceleration of an object is inversely proportional to its mass. This means that heavier objects have smaller accelerations for the same force.\n",
            "* **Net Force:** The net force is the sum of all the forces acting on an object. If the forces are in the same direction, the net force is their sum. If the forces are in opposite directions, the net force is their difference.\n",
            "* **Mass:** Mass is a measure of the amount of matter in an object. It is different from weight, which is a measure of the force of gravity acting on an object.\n",
            "\n",
            "**Implications:**\n",
            "\n",
            "* Newton's second law explains why heavier objects fall at the same rate as lighter objects in the absence of air resistance.\n",
            "* It allows scientists and engineers to calculate the acceleration of objects based on their mass and the forces acting on them.\n",
            "* It forms the basis for many applications, such as rocket propulsion, driving, and measuring forces in various fields.\n"
          ]
        }
      ],
      "source": [
        "model = genai.GenerativeModel('gemini-pro')\n",
        "response = model.generate_content(\"Tell me about Newton's second law.\")\n",
        "print(response.text)"
      ]
    },
    {
      "cell_type": "markdown",
      "metadata": {
        "id": "80cNapHYiRNj"
      },
      "source": [
        "# 역할 부여하기"
      ]
    },
    {
      "cell_type": "code",
      "execution_count": null,
      "metadata": {
        "id": "0rgobTWZjEbZ"
      },
      "outputs": [],
      "source": [
        "model = genai.GenerativeModel('gemini-pro')\n",
        "instruction = \"You are an elementary school physics teacher.\"\n",
        "prompt = \"Tell me about Newton's second law.\""
      ]
    },
    {
      "cell_type": "code",
      "execution_count": null,
      "metadata": {
        "id": "uRdjqk7gjEY5"
      },
      "outputs": [],
      "source": [
        "# 전체 프롬프트 생성 (instruction 포함)\n",
        "full_prompt = f\"{instruction}\\n{prompt}\"\n",
        "# 모델 호출\n",
        "response = model.generate_content(full_prompt)"
      ]
    },
    {
      "cell_type": "code",
      "execution_count": null,
      "metadata": {
        "colab": {
          "base_uri": "https://localhost:8080/"
        },
        "id": "5NcBkuRUjUul",
        "outputId": "07b410c0-a081-4da8-eec5-a197913ed486"
      },
      "outputs": [
        {
          "name": "stdout",
          "output_type": "stream",
          "text": [
            "\"Good morning, young scientists! Today, we're going on an exciting adventure exploring Newton's second law.\n",
            "\n",
            "Newton's second law tells us how the acceleration of an object depends on two things: its mass and the force acting on it. It's like a recipe for motion.\n",
            "\n",
            "Imagine a toy car on a table. If we push it with a small force, it will accelerate slowly. But if we give it a bigger push, it will accelerate faster. This is because the acceleration is directly proportional to the force applied.\n",
            "\n",
            "Now, let's talk about mass. Mass is like the heaviness of an object. A heavy object has more mass than a light object. If we push a heavy toy car with the same force as a light toy car, the heavy car will accelerate less because it has more mass to move.\n",
            "\n",
            "So, the equation for Newton's second law looks like this:\n",
            "\n",
            "Force = mass x acceleration\n",
            "\n",
            "Or, in a more memorable way: F = ma\n",
            "\n",
            "Remember, force is measured in Newtons, mass in kilograms, and acceleration in meters per second squared.\n",
            "\n",
            "This law is super important because it helps us understand how objects move and how to predict their motion. It's used by engineers to design rockets, physicists to study gravity, and even athletes to improve their performance.\n",
            "\n",
            "So, next time you see a car speeding up or a ball flying through the air, remember Newton's second law: F = ma!\"\n"
          ]
        }
      ],
      "source": [
        "print(response.text)"
      ]
    },
    {
      "cell_type": "markdown",
      "metadata": {
        "id": "JJoRZHimcfev"
      },
      "source": [
        "# Instruction 추가하기"
      ]
    },
    {
      "cell_type": "code",
      "execution_count": null,
      "metadata": {
        "id": "_ZZsol3giQ2S"
      },
      "outputs": [],
      "source": [
        "instruction = \"You must explain the concept with example problems.\"\n",
        "prompt = \"Tell me about Newton's second law.\""
      ]
    },
    {
      "cell_type": "code",
      "execution_count": null,
      "metadata": {
        "id": "nJ5eXNkqiQxW"
      },
      "outputs": [],
      "source": [
        "model = genai.GenerativeModel('gemini-pro')\n",
        "# 전체 프롬프트 생성 (instruction 포함)\n",
        "full_prompt = f\"{instruction}\\n{prompt}\"\n",
        "# 모델 호출\n",
        "response = model.generate_content(full_prompt)"
      ]
    },
    {
      "cell_type": "code",
      "execution_count": null,
      "metadata": {
        "colab": {
          "base_uri": "https://localhost:8080/"
        },
        "id": "Ygozmye9i9iU",
        "outputId": "09f93c10-f56a-45e8-d48e-c1c17c0589c8"
      },
      "outputs": [
        {
          "name": "stdout",
          "output_type": "stream",
          "text": [
            "**Newton's Second Law**\n",
            "\n",
            "**Statement:** The acceleration of an object is directly proportional to the net force acting on it, and inversely proportional to its mass.\n",
            "\n",
            "**Mathematical Expression:**\n",
            "\n",
            "```\n",
            "F = ma\n",
            "```\n",
            "\n",
            "where:\n",
            "\n",
            "* F is the net force acting on the object (in newtons)\n",
            "* m is the mass of the object (in kilograms)\n",
            "* a is the acceleration of the object (in meters per second squared)\n",
            "\n",
            "**Example Problems:**\n",
            "\n",
            "**1. Pushing a Box**\n",
            "\n",
            "A 20-kilogram box is pushed across a floor with a force of 100 newtons. Calculate the acceleration of the box.\n",
            "\n",
            "**Solution:**\n",
            "\n",
            "```\n",
            "F = ma\n",
            "100 N = 20 kg * a\n",
            "a = 100 N / 20 kg\n",
            "a = 5 m/s²\n",
            "```\n",
            "\n",
            "Therefore, the box accelerates at a rate of 5 meters per second squared.\n",
            "\n",
            "**2. Falling Apple**\n",
            "\n",
            "An apple with a mass of 0.1 kilograms is dropped from a tree. Neglecting air resistance, calculate the acceleration due to gravity.\n",
            "\n",
            "**Solution:**\n",
            "\n",
            "The net force acting on the apple is its weight, which is:\n",
            "\n",
            "```\n",
            "F = mg = 0.1 kg * 9.81 m/s² = 0.981 N\n",
            "```\n",
            "\n",
            "Using Newton's second law:\n",
            "\n",
            "```\n",
            "F = ma\n",
            "0.981 N = 0.1 kg * a\n",
            "a = 0.981 N / 0.1 kg\n",
            "a = 9.81 m/s²\n",
            "```\n",
            "\n",
            "Therefore, the acceleration due to gravity is 9.81 meters per second squared.\n",
            "\n",
            "**Implications of Newton's Second Law:**\n",
            "\n",
            "* Force, mass, and acceleration are closely related.\n",
            "* Increasing the force acting on an object increases its acceleration.\n",
            "* Increasing the mass of an object decreases its acceleration for the same force.\n",
            "* This law applies to all objects, regardless of their size or composition.\n",
            "* It is a fundamental principle used in physics and engineering to analyze and predict the motion of objects.\n"
          ]
        }
      ],
      "source": [
        "print(response.text)"
      ]
    },
    {
      "cell_type": "markdown",
      "metadata": {
        "id": "tF_Ky3Zxjrhg"
      },
      "source": [
        "# 할루시네이션"
      ]
    },
    {
      "cell_type": "code",
      "execution_count": null,
      "metadata": {
        "colab": {
          "base_uri": "https://localhost:8080/",
          "height": 35
        },
        "id": "joyVKApEjrDJ",
        "outputId": "fb755f08-77ad-494b-cb35-a5b23d118bd2"
      },
      "outputs": [
        {
          "name": "stdout",
          "output_type": "stream",
          "text": [
            "(10 + 13) * (4 - 9) = 24\n"
          ]
        }
      ],
      "source": [
        "model = genai.GenerativeModel('gemini-pro')\n",
        "response = model.generate_content(\"Use the four basic operations (+, -, /, *) to appropriately operate 4, 9, 10, 13 to make 24.\")\n",
        "print(response.text)"
      ]
    },
    {
      "cell_type": "markdown",
      "metadata": {
        "id": "2ntFakgjjVZJ"
      },
      "source": [
        "# Few shot Prompting"
      ]
    },
    {
      "cell_type": "code",
      "execution_count": null,
      "metadata": {
        "id": "Dk_2bPr5rV5p"
      },
      "outputs": [],
      "source": [
        "prompt = \"\"\"\n",
        "The movie was good // positive\n",
        "The movie was quite bad // negative\n",
        "I really like the movie, but the ending was lacking // neutral\n",
        "I loved the movie //\n",
        "\"\"\""
      ]
    },
    {
      "cell_type": "code",
      "execution_count": null,
      "metadata": {
        "id": "13Rd9uv8rVwo"
      },
      "outputs": [],
      "source": [
        "model = genai.GenerativeModel('gemini-pro')\n",
        "# 전체 프롬프트 생성 (instruction 포함)\n",
        "response = model.generate_content(prompt)"
      ]
    },
    {
      "cell_type": "code",
      "execution_count": null,
      "metadata": {
        "colab": {
          "base_uri": "https://localhost:8080/"
        },
        "id": "jOGi3kvIruhQ",
        "outputId": "7a77e222-a310-4267-f591-d9cc1f4eb248"
      },
      "outputs": [
        {
          "name": "stdout",
          "output_type": "stream",
          "text": [
            "positive\n"
          ]
        }
      ],
      "source": [
        "print(response.text)"
      ]
    },
    {
      "cell_type": "markdown",
      "metadata": {
        "id": "O2tN2ihZrWdg"
      },
      "source": [
        "# 추론 task에서는 소용이 없다..."
      ]
    },
    {
      "cell_type": "code",
      "execution_count": null,
      "metadata": {
        "colab": {
          "base_uri": "https://localhost:8080/",
          "height": 35
        },
        "id": "D_kwyMxGoY5G",
        "outputId": "7ee9cfc1-a93a-4719-b858-79aaa23a1111"
      },
      "outputs": [
        {
          "name": "stdout",
          "output_type": "stream",
          "text": [
            "True\n"
          ]
        }
      ],
      "source": [
        "model = genai.GenerativeModel('gemini-pro')\n",
        "response = model.generate_content(\"Is that True? : The odd numbers in 15, 32, 5, 13, 82, 7, 1 add up to an even number.\")\n",
        "print(response.text)"
      ]
    },
    {
      "cell_type": "code",
      "execution_count": null,
      "metadata": {
        "colab": {
          "base_uri": "https://localhost:8080/",
          "height": 35
        },
        "id": "dBW_-L9rbqvj",
        "outputId": "a028d1e5-b734-4ed7-b0e4-6fdc0cbeb791"
      },
      "outputs": [
        {
          "name": "stdout",
          "output_type": "stream",
          "text": [
            "The answer is True.\n"
          ]
        }
      ],
      "source": [
        "model = genai.GenerativeModel('gemini-pro')\n",
        "#프롬프트\n",
        "prompt = \"\"\"\n",
        "The odd numbers in this group add up to an even number: 4, 8, 9, 15, 12, 2, 1.\n",
        "A: The answer is False.\n",
        "The odd numbers in this group add up to an even number: 17,  10, 19, 4, 8, 12, 24.\n",
        "A: The answer is True.\n",
        "The odd numbers in this group add up to an even number: 16,  11, 14, 4, 8, 13, 24.\n",
        "A: The answer is True.\n",
        "The odd numbers in this group add up to an even number: 17,  9, 10, 12, 13, 4, 2.\n",
        "A: The answer is False.\n",
        "The odd numbers in this group add up to an even number: 15, 32, 5, 13, 82, 7, 1.\n",
        "A:\n",
        "\"\"\"\n",
        "# 모델 호출\n",
        "response = model.generate_content(prompt)\n",
        "print(response.text)"
      ]
    },
    {
      "cell_type": "markdown",
      "metadata": {
        "id": "wNCwveFJc_jy"
      },
      "source": [
        "# Chain of Thought"
      ]
    },
    {
      "cell_type": "code",
      "execution_count": null,
      "metadata": {
        "id": "pXbofNnBdBTu"
      },
      "outputs": [],
      "source": [
        "instruction = \"Let's think step by step.\"\n",
        "prompt = \"\"\"\n",
        "The odd numbers in this group add up to an even number: 4, 8, 9, 15, 12, 2, 1.\n",
        "A: The answer is False.\n",
        "The odd numbers in this group add up to an even number: 17,  10, 19, 4, 8, 12, 24.\n",
        "A: The answer is True.\n",
        "The odd numbers in this group add up to an even number: 16,  11, 14, 4, 8, 13, 24.\n",
        "A: The answer is True.\n",
        "The odd numbers in this group add up to an even number: 17,  9, 10, 12, 13, 4, 2.\n",
        "A: The answer is False.\n",
        "The odd numbers in this group add up to an even number: 15, 32, 5, 13, 82, 7, 1.\n",
        "A:\n",
        "\"\"\""
      ]
    },
    {
      "cell_type": "code",
      "execution_count": null,
      "metadata": {
        "id": "sWwve_j1ojgK"
      },
      "outputs": [],
      "source": [
        "model = genai.GenerativeModel('gemini-pro')\n",
        "# 전체 프롬프트 생성 (instruction 포함)\n",
        "full_prompt = f\"{instruction}\\n{prompt}\"\n",
        "# 모델 호출\n",
        "response = model.generate_content(full_prompt)"
      ]
    },
    {
      "cell_type": "code",
      "execution_count": null,
      "metadata": {
        "colab": {
          "base_uri": "https://localhost:8080/"
        },
        "id": "CMGs5mF1okda",
        "outputId": "acd18593-4989-4a95-fa06-022adcd2feab"
      },
      "outputs": [
        {
          "name": "stdout",
          "output_type": "stream",
          "text": [
            "The answer is False.\n",
            "\n",
            "The odd numbers in this group are 15, 5, 13, 7, and 1. Adding these numbers results in 41, which is an odd number.\n"
          ]
        }
      ],
      "source": [
        "print(response.text)"
      ]
    },
    {
      "cell_type": "markdown",
      "metadata": {
        "id": "VV_YLubWsK5F"
      },
      "source": [
        "# **과제** :\n",
        "\n",
        "아래 문제에서는 할루시네이션이 발생한다. (답은 10 apples가 나와야 한다.)"
      ]
    },
    {
      "cell_type": "code",
      "execution_count": null,
      "metadata": {
        "id": "_xAUx2io0XWr"
      },
      "outputs": [],
      "source": [
        "prompt = \"\"\"\n",
        "I went to the market and bought 10 apples. I gave 2 apples to the neighbor and 2 to the repairman.\n",
        "I then went and bought 5 more apples and ate 1. How many apples did I remain with?\n",
        "\"\"\""
      ]
    },
    {
      "cell_type": "code",
      "execution_count": null,
      "metadata": {
        "id": "5dlwf2MA0S-D"
      },
      "outputs": [],
      "source": [
        "model = genai.GenerativeModel('gemini-pro')\n",
        "# 전체 프롬프트 생성 (instruction 포함)\n",
        "response = model.generate_content(prompt)"
      ]
    },
    {
      "cell_type": "code",
      "execution_count": null,
      "metadata": {
        "colab": {
          "base_uri": "https://localhost:8080/"
        },
        "id": "c9yFDZWh0cS9",
        "outputId": "74d311aa-7370-4192-c141-44e2d9bdbcf9"
      },
      "outputs": [
        {
          "output_type": "stream",
          "name": "stdout",
          "text": [
            "12 apples\n"
          ]
        }
      ],
      "source": [
        "print(response.text)"
      ]
    },
    {
      "cell_type": "markdown",
      "metadata": {
        "id": "lVE6QFKE0eEk"
      },
      "source": [
        "***할루시네이션이 발생한 위의 문제를 올바르게 풀게끔 프롬프트를 만들어보세요.***"
      ]
    },
    {
      "cell_type": "code",
      "execution_count": null,
      "metadata": {
        "id": "_enfGnTsseBq"
      },
      "outputs": [],
      "source": [
        "instruction = \"Let's think step by step. Explain your thought.\"\n",
        "prompt = \"\"\"\n",
        "I went to the market and bought 10 apples. I gave 2 apples to the neighbor and 2 to the repairman.\n",
        "I then went and bought 5 more apples and ate 1. How many apples did I remain with?\n",
        "\"\"\""
      ]
    },
    {
      "cell_type": "code",
      "execution_count": null,
      "metadata": {
        "id": "UiD3FYlytZX5"
      },
      "outputs": [],
      "source": [
        "model = genai.GenerativeModel('gemini-pro')\n",
        "# 전체 프롬프트 생성 (instruction 포함)\n",
        "full_prompt = f\"{instruction}\\n{prompt}\"\n",
        "# 모델 호출\n",
        "response = model.generate_content(full_prompt)"
      ]
    },
    {
      "cell_type": "code",
      "execution_count": null,
      "metadata": {
        "colab": {
          "base_uri": "https://localhost:8080/"
        },
        "id": "CarzvepftaPn",
        "outputId": "fb2bddd6-da4a-44bd-bb70-d6ccb55c0fe5"
      },
      "outputs": [
        {
          "output_type": "stream",
          "name": "stdout",
          "text": [
            "1. Started with 10 apples\n",
            "2. Gave 2 apples to the neighbor, so now have 10 - 2 = 8 apples.\n",
            "3. Gave 2 apples to the repairman, so now have 8 - 2 = 6 apples.\n",
            "4. Bought 5 more apples, so now have 6 + 5 = 11 apples.\n",
            "5. Ate 1 apple, so now have 11 - 1 = 10 apples.\n",
            "\n",
            "Therefore, I remained with 10 apples.\n"
          ]
        }
      ],
      "source": [
        "print(response.text)"
      ]
    }
  ],
  "metadata": {
    "colab": {
      "provenance": []
    },
    "kernelspec": {
      "display_name": "Python 3",
      "name": "python3"
    },
    "language_info": {
      "name": "python"
    }
  },
  "nbformat": 4,
  "nbformat_minor": 0
}